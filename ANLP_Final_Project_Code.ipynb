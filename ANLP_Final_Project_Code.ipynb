{
 "cells": [
  {
   "cell_type": "markdown",
   "metadata": {},
   "source": [
    "## ANLP Final Project"
   ]
  },
  {
   "cell_type": "markdown",
   "metadata": {},
   "source": [
    "Sai Shruthi Umakanth & Gayatree Tiwari\n",
    "12th December, 2018"
   ]
  },
  {
   "cell_type": "code",
   "execution_count": 127,
   "metadata": {},
   "outputs": [],
   "source": [
    "%matplotlib inline\n",
    "\n",
    "import re\n",
    "import gensim\n",
    "import nltk\n",
    "import spacy\n",
    "import math\n",
    "import langid\n",
    "import numpy as np\n",
    "import pandas as pd\n",
    "import en_core_web_sm\n",
    "import string as string\n",
    "from pprint import pprint\n",
    "nlp = en_core_web_sm.load()\n",
    "#nltk.download('stopwords')\n",
    "from langdetect import detect\n",
    "from nltk.stem.porter import *\n",
    "import matplotlib.pyplot as plt\n",
    "from wordcloud import WordCloud\n",
    "from nltk.corpus import stopwords\n",
    "from gensim import corpora, models\n",
    "from nltk.stem import PorterStemmer\n",
    "# from nltk.stem import SnowballStemmer\n",
    "from nltk.stem import WordNetLemmatizer\n",
    "from porter2stemmer import Porter2Stemmer\n",
    "from nltk.tokenize import RegexpTokenizer\n",
    "from gensim.utils import simple_preprocess\n",
    "from gensim.parsing.preprocessing import STOPWORDS\n",
    "from nltk.stem import WordNetLemmatizer, SnowballStemmer\n",
    "# https://github.com/saffsd/langid.py\n"
   ]
  },
  {
   "cell_type": "code",
   "execution_count": 2,
   "metadata": {},
   "outputs": [],
   "source": [
    "songs = pd.read_csv(r\"C:\\Users\\e9900331\\Documents\\IUB\\Fall 2018\\L 645\\Final Project\\lyrics.csv\")\n"
   ]
  },
  {
   "cell_type": "code",
   "execution_count": 3,
   "metadata": {
    "scrolled": true
   },
   "outputs": [
    {
     "name": "stdout",
     "output_type": "stream",
     "text": [
      "(362237, 6)\n"
     ]
    }
   ],
   "source": [
    "print(songs.shape)"
   ]
  },
  {
   "cell_type": "code",
   "execution_count": 4,
   "metadata": {},
   "outputs": [
    {
     "name": "stdout",
     "output_type": "stream",
     "text": [
      "{\"you'd\", 'couldn', 'that', 'to', 'being', 'same', \"doesn't\", 'then', 'hasn', 'we', 'if', 'does', 'for', 'my', 'she', \"weren't\", 'whom', 'too', 'some', 'or', 'a', 'only', 'further', 'you', 'so', \"mustn't\", 'our', 'there', 'doing', 'mightn', 'has', 'over', 'all', 'those', 'such', \"wouldn't\", 'hadn', 'of', 'nor', 'while', 're', 'where', 'than', \"hasn't\", 'haven', 'after', 'him', 'into', \"that'll\", 'did', 'how', 'myself', 'under', 'ain', 'shan', 'their', 'out', 'below', 'from', 'be', 'because', 'by', 'more', \"shouldn't\", 'up', 'off', 'any', 'few', 'at', 'didn', 'themselves', 'wasn', 'in', 'me', 'very', 'once', 'theirs', \"haven't\", 'on', 'when', 'her', 'herself', 'which', 'have', \"should've\", 'having', \"she's\", \"aren't\", 'won', 'yourself', 'been', 'now', 'himself', \"you're\", 'itself', 'the', 'just', 'why', 'most', 'above', 'who', 'o', 'hers', 'not', \"hadn't\", 'weren', \"needn't\", 'its', \"won't\", 'here', \"you've\", 'yours', 'can', 'd', \"couldn't\", 'shouldn', 'is', 'm', 'was', 'wouldn', 'doesn', 'about', 'through', 'and', \"don't\", 'he', 'am', 'they', 'ours', 'other', 't', 'your', \"isn't\", \"you'll\", 'll', 'own', 'them', 'as', 'both', 'his', 'each', 'don', 'will', \"mightn't\", 'do', 'between', \"didn't\", 'down', 'had', 'y', 'ourselves', 'but', 'this', 'isn', 'i', 'are', 'an', 'again', \"shan't\", 'these', 'what', 'against', 'needn', 'yourselves', 'were', \"wasn't\", 've', 'before', 's', 'until', 'it', 'with', 'during', 'should', 'ma', 'aren', 'no', \"it's\", 'mustn'}\n"
     ]
    }
   ],
   "source": [
    "#creating vector with stopword\n",
    "stop_words = set(stopwords.words('english'))\n",
    "print(stop_words)\n",
    "# for word in stop_words:\n",
    "#     print(word)"
   ]
  },
  {
   "cell_type": "code",
   "execution_count": 5,
   "metadata": {},
   "outputs": [],
   "source": [
    "def replace_stopwords(text):\n",
    "    words = nltk.word_tokenize(str(text))\n",
    "    song = [word for word in words if(word not in stop_words)]\n",
    "    return (\" \".join(song))\n",
    "\n",
    "# Ref: https://stackoverflow.com/questions/265960/best-way-to-strip-punctuation-from-a-string-in-python\n",
    "\n",
    "exclude = set(string.punctuation)\n",
    "regex = re.compile('[%s]' % re.escape(string.punctuation))\n",
    "\n",
    "def remove_punct(s): \n",
    "    return regex.sub('', str(s))\n",
    "\n",
    "# def remove_short_songs(s):\n",
    "#     if(len(str(s)) > 20): return s\n",
    "    \n",
    "# Ref: https://stackoverflow.com/questions/26264579/select-the-rows-that-satisfy-the-same-condition-on-all-columns\n",
    "def select(list_of_rows, filter_function):\n",
    "    result = []\n",
    "    for row in list_of_rows:\n",
    "        if filter_function(row):\n",
    "            result.append(row)\n",
    "    return result\n",
    "\n",
    "def str_filter(s):\n",
    "    if (isinstance(s, str)):\n",
    "        return True\n",
    "    return False\n",
    "\n",
    "def not_short(s):\n",
    "    if (len(str(s)) > 150):\n",
    "        return True\n",
    "    return False\n",
    "\n",
    "def is_English(s):\n",
    "    if(detect(s) == 'en'):\n",
    "        return True\n",
    "    return False\n",
    "\n",
    "# def get_alpha(s):\n",
    "#     if(s.isalpha()):\n",
    "#         return True\n",
    "#     return False"
   ]
  },
  {
   "cell_type": "code",
   "execution_count": 6,
   "metadata": {},
   "outputs": [
    {
     "name": "stdout",
     "output_type": "stream",
     "text": [
      "BEFORE:  0    oh baby how you doing\\nyou know im gonna cut r...\n",
      "1    playin everything so easy\\nits like you seem s...\n",
      "2    if you search\\nfor tenderness\\nit isnt hard to...\n",
      "3    oh oh oh i oh oh oh i\\nverse \\nif i wrote a bo...\n",
      "4    party the people the people the party its popp...\n",
      "Name: lyrics, dtype: object\n"
     ]
    }
   ],
   "source": [
    "#clean data\n",
    "songs = songs[0:10000]\n",
    "songs.lyrics = songs.lyrics.str.lower()\n",
    "songs.lyrics = songs.lyrics.str.replace('[^\\w\\s]','')\n",
    "songs.lyrics = songs.lyrics.str.replace('\\d+', '')\n",
    "print(\"BEFORE: \",songs.lyrics.head())\n",
    "songs.lyrics = songs.lyrics.str.replace('\\n', ' ')\n",
    "# print(\"AFTER: \",songs.lyrics.head())\n",
    "songs.lyrics = songs.lyrics.map(replace_stopwords)\n",
    "# print(\"GET....RID@@ of this. ??\")\n",
    "# print(\"Punctuation removed: \")\n",
    "# print(remove_punct(\"GET....RID@@ of this. ??\"))\n",
    "\n",
    "# songs.lyrics = songs.lyrics.str.strip()\n",
    "# songs.lyrics = songs.lyrics.dropna().apply(lambda x: [item for item in x if item not in stop_words])\n",
    "# print(\"AFTER removing stopwords: \",songs.lyrics.head())"
   ]
  },
  {
   "cell_type": "code",
   "execution_count": 7,
   "metadata": {},
   "outputs": [
    {
     "name": "stdout",
     "output_type": "stream",
     "text": [
      "length before filtering out NaNs:  10000\n",
      "length after filtering out NaNs:  10000\n",
      "length after filtering out short ones (<150 chars):  6545\n"
     ]
    }
   ],
   "source": [
    "songs.lyrics = songs.lyrics.dropna()\n",
    "songs.lyrics = songs.lyrics.str.strip()\n",
    "\n",
    "# Filter out NANs, and all other values which are not strings: \n",
    "\n",
    "print(\"length before filtering out NaNs: \",len(songs))\n",
    "songs = pd.DataFrame({'lyrics':select(songs.lyrics, str_filter)})\n",
    "print(\"length after filtering out NaNs: \",len(songs))\n",
    "songs = pd.DataFrame({'lyrics':select(songs.lyrics, not_short)})\n",
    "print(\"length after filtering out short ones (<150 chars): \",len(songs))\n"
   ]
  },
  {
   "cell_type": "code",
   "execution_count": 119,
   "metadata": {},
   "outputs": [
    {
     "name": "stdout",
     "output_type": "stream",
     "text": [
      "Sneak Peek at the dictionary: \n",
      "0 admit\n",
      "1 aint\n",
      "2 arrog\n",
      "3 babi\n",
      "4 back\n",
      "5 beat\n",
      "Size of dictionary: \n",
      "40886\n",
      "Size of dictionary after filtering for most frequent words: \n",
      "3401\n"
     ]
    }
   ],
   "source": [
    "# Ref: https://towardsdatascience.com/topic-modeling-and-latent-dirichlet-allocation-in-python-9bf156893c24\n",
    "# nltk.download('all')\n",
    "# stemmer = Porter2Stemmer()\n",
    "ps = PorterStemmer()\n",
    "wl=WordNetLemmatizer()\n",
    "# snowball=SnowballStemmer(\"english\")\n",
    "ar1 = []\n",
    "songs_stemmed = []\n",
    "def process_song(text):\n",
    "    stemmed_song = []\n",
    "    for token in nltk.word_tokenize(str(text)):\n",
    "        if len(token) > 2:\n",
    "            stemmed_song.append(ps.stem(token))\n",
    "    return stemmed_song\n",
    "\n",
    "# temp_song_lyrics = ' '.join(ar1)\n",
    "processed_songs = [process_song(song) for song in songs.lyrics]\n",
    "processed_songs[:2]\n",
    "\n",
    "# Bag of words: \n",
    "dictionary = gensim.corpora.Dictionary(processed_songs)\n",
    "count = 0\n",
    "print(\"Sneak Peek at the dictionary: \")\n",
    "for k, v in dictionary.iteritems():\n",
    "    print(k, v)\n",
    "    count += 1\n",
    "    if count > 5:\n",
    "        break\n",
    "print(\"Size of dictionary: \")\n",
    "print(len(dictionary))\n",
    "\n",
    "dictionary.filter_extremes(no_below=15, no_above=0.5, keep_n=5000)\n",
    "print(\"Size of dictionary after filtering for most frequent words: \")\n",
    "print(len(dictionary))\n"
   ]
  },
  {
   "cell_type": "code",
   "execution_count": 122,
   "metadata": {},
   "outputs": [
    {
     "name": "stdout",
     "output_type": "stream",
     "text": [
      "Length of song corpus: \n",
      "6545\n",
      "[(3, 1), (24, 1), (25, 3), (27, 1), (30, 4), (34, 2), (42, 4), (43, 2), (45, 5), (47, 3), (63, 1), (65, 1), (70, 2), (76, 1), (80, 7), (88, 1), (89, 1), (90, 1), (91, 1), (92, 1), (93, 1), (94, 1), (95, 4), (96, 1), (97, 1), (98, 2), (99, 1), (100, 2), (101, 1), (102, 1), (103, 1), (104, 1), (105, 1), (106, 1), (107, 1), (108, 1), (109, 1), (110, 1), (111, 1), (112, 1), (113, 1), (114, 1), (115, 1), (116, 1), (117, 2), (118, 3), (119, 6), (120, 1), (121, 1), (122, 1), (123, 1), (124, 1), (125, 2), (126, 1), (127, 2), (128, 3), (129, 1), (130, 2), (131, 4), (132, 3), (133, 1), (134, 1), (135, 4), (136, 4), (137, 2), (138, 1), (139, 1)]\n",
      "Word 3 (\"back\") appears 1 times.\n",
      "Word 24 (\"didnt\") appears 1 times.\n",
      "Word 25 (\"dont\") appears 3 times.\n",
      "Word 27 (\"everi\") appears 1 times.\n",
      "Word 30 (\"feel\") appears 4 times.\n",
      "Word 34 (\"gon\") appears 2 times.\n",
      "Word 42 (\"know\") appears 4 times.\n",
      "Word 43 (\"leav\") appears 2 times.\n",
      "Word 45 (\"let\") appears 5 times.\n",
      "Word 47 (\"like\") appears 3 times.\n",
      "Word 63 (\"right\") appears 1 times.\n",
      "Word 65 (\"see\") appears 1 times.\n",
      "Word 70 (\"someth\") appears 2 times.\n",
      "Word 76 (\"think\") appears 1 times.\n",
      "Word 80 (\"want\") appears 7 times.\n",
      "Word 88 (\"your\") appears 1 times.\n",
      "Word 89 (\"act\") appears 1 times.\n",
      "Word 90 (\"along\") appears 1 times.\n",
      "Word 91 (\"alright\") appears 1 times.\n",
      "Word 92 (\"ask\") appears 1 times.\n",
      "Word 93 (\"bore\") appears 1 times.\n",
      "Word 94 (\"bring\") appears 1 times.\n",
      "Word 95 (\"come\") appears 4 times.\n",
      "Word 96 (\"courag\") appears 1 times.\n",
      "Word 97 (\"darkest\") appears 1 times.\n",
      "Word 98 (\"day\") appears 2 times.\n",
      "Word 99 (\"delight\") appears 1 times.\n",
      "Word 100 (\"easi\") appears 2 times.\n",
      "Word 101 (\"even\") appears 1 times.\n",
      "Word 102 (\"everyth\") appears 1 times.\n",
      "Word 103 (\"exactli\") appears 1 times.\n",
      "Word 104 (\"felt\") appears 1 times.\n",
      "Word 105 (\"hear\") appears 1 times.\n",
      "Word 106 (\"hold\") appears 1 times.\n",
      "Word 107 (\"ill\") appears 1 times.\n",
      "Word 108 (\"ive\") appears 1 times.\n",
      "Word 109 (\"linger\") appears 1 times.\n",
      "Word 110 (\"listen\") appears 1 times.\n",
      "Word 111 (\"may\") appears 1 times.\n",
      "Word 112 (\"melodi\") appears 1 times.\n",
      "Word 113 (\"might\") appears 1 times.\n",
      "Word 114 (\"mind\") appears 1 times.\n",
      "Word 115 (\"new\") appears 1 times.\n",
      "Word 116 (\"playin\") appears 1 times.\n",
      "Word 117 (\"realli\") appears 2 times.\n",
      "Word 118 (\"say\") appears 3 times.\n",
      "Word 119 (\"seem\") appears 6 times.\n",
      "Word 120 (\"sleep\") appears 1 times.\n",
      "Word 121 (\"slip\") appears 1 times.\n",
      "Word 122 (\"sound\") appears 1 times.\n",
      "Word 123 (\"speak\") appears 1 times.\n",
      "Word 124 (\"stay\") appears 1 times.\n",
      "Word 125 (\"still\") appears 2 times.\n",
      "Word 126 (\"strang\") appears 1 times.\n",
      "Word 127 (\"sure\") appears 2 times.\n",
      "Word 128 (\"tell\") appears 3 times.\n",
      "Word 129 (\"therel\") appears 1 times.\n",
      "Word 130 (\"theyr\") appears 2 times.\n",
      "Word 131 (\"thing\") appears 4 times.\n",
      "Word 132 (\"though\") appears 3 times.\n",
      "Word 133 (\"time\") appears 1 times.\n",
      "Word 134 (\"tri\") appears 1 times.\n",
      "Word 135 (\"truli\") appears 4 times.\n",
      "Word 136 (\"way\") appears 4 times.\n",
      "Word 137 (\"word\") appears 2 times.\n",
      "Word 138 (\"would\") appears 1 times.\n",
      "Word 139 (\"wrong\") appears 1 times.\n"
     ]
    }
   ],
   "source": [
    "# Calculating how many words and their frequency of occurence: \n",
    "song_corpus = [dictionary.doc2bow(song) for song in processed_songs]\n",
    "song_corpus[1]\n",
    "print(\"Length of song corpus: \")\n",
    "print(len(song_corpus))\n",
    "song_xyz = song_corpus[1]\n",
    "\n",
    "for i in range(len(song_xyz)):\n",
    "    print(\"Word {} (\\\"{}\\\") appears {} times.\".format(song_xyz[i][0],\n",
    "                                                     dictionary[song_xyz[i][0]],\n",
    "                                                     song_xyz[i][1]))\n"
   ]
  },
  {
   "cell_type": "code",
   "execution_count": 11,
   "metadata": {},
   "outputs": [
    {
     "name": "stdout",
     "output_type": "stream",
     "text": [
      "[(0, 0.05296714288504844),\n",
      " (1, 0.04002070823376219),\n",
      " (2, 0.04090911159530849),\n",
      " (3, 0.16720980260251078),\n",
      " (4, 0.03130283414154525),\n",
      " (5, 0.024490322599041357),\n",
      " (6, 0.3408789777773468),\n",
      " (7, 0.029492357061474312),\n",
      " (8, 0.03090493807007326),\n",
      " (9, 0.03004613825720703),\n",
      " (10, 0.04959770535339817),\n",
      " (11, 0.026151938799291136),\n",
      " (12, 0.05929306280795333),\n",
      " (13, 0.16305463464610326),\n",
      " (14, 0.04353080364904444),\n",
      " (15, 0.044352597117816826),\n",
      " (16, 0.058177721156181306),\n",
      " (17, 0.06484387218783935),\n",
      " (18, 0.019317430193188784),\n",
      " (19, 0.04803410094415967),\n",
      " (20, 0.03438979172149682),\n",
      " (21, 0.033022294553373084),\n",
      " (22, 0.04220616279652171),\n",
      " (23, 0.05236160731313609),\n",
      " (24, 0.030932886711905846),\n",
      " (25, 0.03024410932759973),\n",
      " (26, 0.7516432691414957),\n",
      " (27, 0.020347154703454075),\n",
      " (28, 0.017119348436680067),\n",
      " (29, 0.03989337917887349),\n",
      " (30, 0.042481811767185636),\n",
      " (31, 0.02103060367592138),\n",
      " (32, 0.12457701129532313),\n",
      " (33, 0.012010283320752107),\n",
      " (34, 0.03922670513135025),\n",
      " (35, 0.06298279655618845),\n",
      " (36, 0.017483949273168452),\n",
      " (37, 0.0612310552051589),\n",
      " (38, 0.025865801432856907),\n",
      " (39, 0.041452595181907845),\n",
      " (40, 0.029443369075610442),\n",
      " (41, 0.03408742808225511),\n",
      " (42, 0.04466574317727633),\n",
      " (43, 0.02190615836739872),\n",
      " (44, 0.04397975515344764),\n",
      " (45, 0.01516080197136904),\n",
      " (46, 0.024243863329593395),\n",
      " (47, 0.118182188778307),\n",
      " (48, 0.026061718566977927),\n",
      " (49, 0.035523938032717466),\n",
      " (50, 0.04816740905686615),\n",
      " (51, 0.025231302765625654),\n",
      " (52, 0.034162243232286775),\n",
      " (53, 0.033158491769449204),\n",
      " (54, 0.1506916429096191),\n",
      " (55, 0.02969052070456899),\n",
      " (56, 0.07473579626873243),\n",
      " (57, 0.029443369075610442),\n",
      " (58, 0.0642492525321009),\n",
      " (59, 0.057849404696526385),\n",
      " (60, 0.04318438809220575),\n",
      " (61, 0.028825620526715855),\n",
      " (62, 0.03412477203882342),\n",
      " (63, 0.03514988624275453),\n",
      " (64, 0.04088484152888451),\n",
      " (65, 0.011406178727261183),\n",
      " (66, 0.049199819943947766),\n",
      " (67, 0.029866892164888074),\n",
      " (68, 0.065472488113747),\n",
      " (69, 0.02910643028337564),\n",
      " (70, 0.02599007150809351),\n",
      " (71, 0.0924141467899747),\n",
      " (72, 0.13975918222739256),\n",
      " (73, 0.10207316469693041),\n",
      " (74, 0.018897324842335545),\n",
      " (75, 0.057849404696526385),\n",
      " (76, 0.01735292422803977),\n",
      " (77, 0.14615223867665242),\n",
      " (78, 0.058516141231284846),\n",
      " (79, 0.11668911571662784),\n",
      " (80, 0.014703583560891352),\n",
      " (81, 0.018916076397845587),\n",
      " (82, 0.02896512917935058),\n",
      " (83, 0.1305924109471333),\n",
      " (84, 0.04565980702938066),\n",
      " (85, 0.06340032255913274),\n",
      " (86, 0.05613370356849598),\n",
      " (87, 0.03892591755876586),\n",
      " (88, 0.015001890819211224)]\n"
     ]
    }
   ],
   "source": [
    "# ------------------------------------------------------------\n",
    "# TF-IDF \n",
    "\n",
    "tfidf = models.TfidfModel(song_corpus)\n",
    "corpus_tfidf = tfidf[song_corpus]\n",
    "\n",
    "for song in corpus_tfidf:\n",
    "    pprint(song)\n",
    "    break\n"
   ]
  },
  {
   "cell_type": "code",
   "execution_count": 150,
   "metadata": {},
   "outputs": [
    {
     "name": "stdout",
     "output_type": "stream",
     "text": [
      "[(0, '0.017*\"like\" + 0.016*\"know\" + 0.014*\"get\" + 0.014*\"time\" + 0.012*\"away\" + 0.011*\"dont\" + 0.011*\"never\" + 0.010*\"see\" + 0.009*\"way\" + 0.009*\"take\"'), (1, '0.016*\"know\" + 0.014*\"time\" + 0.012*\"wan\" + 0.012*\"love\" + 0.010*\"like\" + 0.010*\"dont\" + 0.010*\"girl\" + 0.010*\"got\" + 0.009*\"come\" + 0.009*\"day\"'), (2, '0.022*\"dont\" + 0.014*\"like\" + 0.013*\"see\" + 0.013*\"nigga\" + 0.013*\"get\" + 0.011*\"know\" + 0.010*\"back\" + 0.008*\"aint\" + 0.007*\"caus\" + 0.007*\"take\"'), (3, '0.021*\"got\" + 0.018*\"like\" + 0.015*\"get\" + 0.014*\"dont\" + 0.014*\"want\" + 0.010*\"know\" + 0.009*\"one\" + 0.009*\"nigga\" + 0.008*\"let\" + 0.008*\"come\"'), (4, '0.012*\"dont\" + 0.012*\"let\" + 0.012*\"love\" + 0.012*\"babi\" + 0.010*\"like\" + 0.010*\"make\" + 0.009*\"get\" + 0.009*\"never\" + 0.008*\"know\" + 0.008*\"hey\"'), (5, '0.025*\"que\" + 0.017*\"know\" + 0.012*\"ill\" + 0.012*\"dont\" + 0.011*\"like\" + 0.011*\"love\" + 0.009*\"think\" + 0.008*\"cant\" + 0.008*\"get\" + 0.008*\"take\"'), (6, '0.013*\"time\" + 0.012*\"one\" + 0.011*\"your\" + 0.011*\"come\" + 0.009*\"see\" + 0.009*\"know\" + 0.008*\"like\" + 0.007*\"got\" + 0.007*\"long\" + 0.007*\"never\"'), (7, '0.037*\"love\" + 0.014*\"know\" + 0.012*\"like\" + 0.012*\"get\" + 0.011*\"dont\" + 0.011*\"say\" + 0.010*\"want\" + 0.009*\"one\" + 0.008*\"come\" + 0.008*\"see\"'), (8, '0.019*\"got\" + 0.014*\"get\" + 0.012*\"come\" + 0.010*\"ive\" + 0.008*\"cant\" + 0.008*\"like\" + 0.007*\"know\" + 0.007*\"thing\" + 0.007*\"dont\" + 0.007*\"dem\"'), (9, '0.026*\"dont\" + 0.017*\"know\" + 0.017*\"your\" + 0.013*\"que\" + 0.010*\"want\" + 0.009*\"like\" + 0.008*\"come\" + 0.008*\"let\" + 0.008*\"got\" + 0.008*\"yeah\"')]\n",
      "Topic: 0 \n",
      "Words: 0.017*\"like\" + 0.016*\"know\" + 0.014*\"get\" + 0.014*\"time\" + 0.012*\"away\" + 0.011*\"dont\" + 0.011*\"never\" + 0.010*\"see\" + 0.009*\"way\" + 0.009*\"take\"\n",
      "Topic: 1 \n",
      "Words: 0.016*\"know\" + 0.014*\"time\" + 0.012*\"wan\" + 0.012*\"love\" + 0.010*\"like\" + 0.010*\"dont\" + 0.010*\"girl\" + 0.010*\"got\" + 0.009*\"come\" + 0.009*\"day\"\n",
      "Topic: 2 \n",
      "Words: 0.022*\"dont\" + 0.014*\"like\" + 0.013*\"see\" + 0.013*\"nigga\" + 0.013*\"get\" + 0.011*\"know\" + 0.010*\"back\" + 0.008*\"aint\" + 0.007*\"caus\" + 0.007*\"take\"\n",
      "Topic: 3 \n",
      "Words: 0.021*\"got\" + 0.018*\"like\" + 0.015*\"get\" + 0.014*\"dont\" + 0.014*\"want\" + 0.010*\"know\" + 0.009*\"one\" + 0.009*\"nigga\" + 0.008*\"let\" + 0.008*\"come\"\n",
      "Topic: 4 \n",
      "Words: 0.012*\"dont\" + 0.012*\"let\" + 0.012*\"love\" + 0.012*\"babi\" + 0.010*\"like\" + 0.010*\"make\" + 0.009*\"get\" + 0.009*\"never\" + 0.008*\"know\" + 0.008*\"hey\"\n",
      "Topic: 5 \n",
      "Words: 0.025*\"que\" + 0.017*\"know\" + 0.012*\"ill\" + 0.012*\"dont\" + 0.011*\"like\" + 0.011*\"love\" + 0.009*\"think\" + 0.008*\"cant\" + 0.008*\"get\" + 0.008*\"take\"\n",
      "Topic: 6 \n",
      "Words: 0.013*\"time\" + 0.012*\"one\" + 0.011*\"your\" + 0.011*\"come\" + 0.009*\"see\" + 0.009*\"know\" + 0.008*\"like\" + 0.007*\"got\" + 0.007*\"long\" + 0.007*\"never\"\n",
      "Topic: 7 \n",
      "Words: 0.037*\"love\" + 0.014*\"know\" + 0.012*\"like\" + 0.012*\"get\" + 0.011*\"dont\" + 0.011*\"say\" + 0.010*\"want\" + 0.009*\"one\" + 0.008*\"come\" + 0.008*\"see\"\n",
      "Topic: 8 \n",
      "Words: 0.019*\"got\" + 0.014*\"get\" + 0.012*\"come\" + 0.010*\"ive\" + 0.008*\"cant\" + 0.008*\"like\" + 0.007*\"know\" + 0.007*\"thing\" + 0.007*\"dont\" + 0.007*\"dem\"\n",
      "Topic: 9 \n",
      "Words: 0.026*\"dont\" + 0.017*\"know\" + 0.017*\"your\" + 0.013*\"que\" + 0.010*\"want\" + 0.009*\"like\" + 0.008*\"come\" + 0.008*\"let\" + 0.008*\"got\" + 0.008*\"yeah\"\n"
     ]
    }
   ],
   "source": [
    "# Running LDA using bag of words:\n",
    "lda_model = gensim.models.LdaMulticore(song_corpus, num_topics=10, id2word=dictionary, passes=2, workers=4)\n",
    "# print(set(songs.genre))\n",
    "# Words for each topic and occurence: \n",
    "# print(lda_model.print_topics(-1))\n"
   ]
  },
  {
   "cell_type": "code",
   "execution_count": 153,
   "metadata": {},
   "outputs": [
    {
     "name": "stdout",
     "output_type": "stream",
     "text": [
      "Song to be tested: \n"
     ]
    },
    {
     "data": {
      "image/png": "[encoded data removed]",
      "text/plain": [
       "<Figure size 432x288 with 1 Axes>"
      ]
     },
     "metadata": {
      "needs_background": "light"
     },
     "output_type": "display_data"
    }
   ],
   "source": [
    "# Classifying sample song using our LDA model:\n",
    "print(\"Song to be tested: \")\n",
    "song_xyz=song_corpus[100]\n",
    "# for i in range(len(song_xyz)):\n",
    "#     print(\"Word {} (\\\"{}\\\") appears {} times.\".format(song_xyz[i][0],\n",
    "#                                                      dictionary[song_xyz[i][0]],\n",
    "#                                                      song_xyz[i][1]))\n",
    "# Ref: https://gist.github.com/tokestermw/3588e6fbbb2f03f89798\n",
    "\n",
    "# multiplier=1000\n",
    "def terms_to_wordcounts(terms, multiplier=2000):\n",
    "    return  \" \".join([\" \".join(int(multiplier*song_xyz[i][1]) * [dictionary[song_xyz[i][0]]]) for i in range(len(song_xyz))])\n",
    "\n",
    "# print([multiplier*(i[1]) for i in terms])\n",
    "terms = lda_model.show_topic(4, 20)\n",
    "multiplied_terms = terms_to_wordcounts(terms, 1000)\n",
    "wordcloud = WordCloud(background_color=\"pink\").generate(multiplied_terms)\n",
    "\n",
    "# terms = lda_model.show_topic(4, 20)\n",
    "# multiplied_terms = terms_to_wordcounts(terms, 1000)\n",
    "# wordcloud2 = WordCloud(background_color=\"pink\").generate(multiplied_terms)\n",
    "\n",
    "# fig, axs = plt.subplots(1,2)\n",
    "\n",
    "plt.imshow(wordcloud)\n",
    "plt.axis(\"off\")\n",
    "plt.savefig(\"terms1\")\n"
   ]
  },
  {
   "cell_type": "code",
   "execution_count": 151,
   "metadata": {},
   "outputs": [
    {
     "name": "stdout",
     "output_type": "stream",
     "text": [
      "Scores for the above song for each topic (i.e. how likely is the song to belong to any of the listed topics): \n",
      "\n",
      "The song belongs to Topic 7 with a likelihood of 76.86 %\n",
      "\n",
      "The song belongs to Topic 6 with a likelihood of 15.34 %\n",
      "\n",
      "The song belongs to Topic 3 with a likelihood of 6.57 %\n"
     ]
    }
   ],
   "source": [
    "print(\"Scores for the above song for each topic (i.e. how likely is the song to belong to any of the listed topics): \")\n",
    "for index, score in sorted(lda_model[song_corpus[100]], key=lambda tup: -1*tup[1]):\n",
    "    print(\"\\nThe song belongs to Topic {} with a likelihood of {}\".format(index, str(round((score*100),2))),\"%\")\n",
    "    "
   ]
  },
  {
   "cell_type": "code",
   "execution_count": null,
   "metadata": {},
   "outputs": [],
   "source": [
    "# vizualization  of likelihoods \n",
    "\n",
    "labels = ['Topic1', 'Topic2','Topic3', 'Topic4', 'Topic5', 'Topic6', 'Topic7', 'Topic8', 'Topic9', 'Topic10']\n",
    "value1 = [0,0,0,14.91,68.56,0,9.06,6.98,0,0]\n",
    "\n",
    "trace = go.Pie(labels=labels, values=value1)\n",
    "py.iplot([trace], filename='basic_pie_chart')\n"
   ]
  },
  {
   "cell_type": "code",
   "execution_count": 152,
   "metadata": {},
   "outputs": [
    {
     "name": "stdout",
     "output_type": "stream",
     "text": [
      "Most probable topic for the song: \n",
      "Topic 7  with a likelihood of  77.62 %\n"
     ]
    }
   ],
   "source": [
    "# https://radimrehurek.com/gensim/models/ldamulticore.html#gensim.models.ldamulticore.LdaMulticore.print_topic\n",
    "print(\"Most probable topic for the song: \")\n",
    "for topic, probability in lda_model.get_document_topics(song_corpus[100], minimum_probability = 0.3):\n",
    "    print(\"Topic\",topic,\" with a likelihood of \",str(round((probability*100),2)),\"%\")"
   ]
  },
  {
   "cell_type": "code",
   "execution_count": 48,
   "metadata": {},
   "outputs": [
    {
     "name": "stdout",
     "output_type": "stream",
     "text": [
      "que, dont, way, say, back, get, one, know, got, make\n"
     ]
    }
   ],
   "source": [
    "temp = lda_model.show_topic(1, 10)\n",
    "terms=[]\n",
    "for term in temp:\n",
    "    terms.append(term[0])\n",
    "curr_terms = \", \".join(terms)\n",
    "print(curr_terms)"
   ]
  },
  {
   "cell_type": "code",
   "execution_count": 58,
   "metadata": {},
   "outputs": [
    {
     "name": "stdout",
     "output_type": "stream",
     "text": [
      "Top 10 terms for topic  0 :  love, your, get, nigga, like, come, know, yeah, got, dont\n",
      "Top 10 terms for topic  1 :  que, dont, way, say, back, get, one, know, got, make\n",
      "Top 10 terms for topic  2 :  know, dont, get, like, come, see, want, take, time, never\n",
      "Top 10 terms for topic  3 :  see, dont, know, get, love, time, live, your, tri, cant\n",
      "Top 10 terms for topic  4 :  like, feel, see, know, time, come, eye, away, he, got\n",
      "Top 10 terms for topic  5 :  love, know, dont, never, like, babi, feel, want, say, cant\n",
      "Top 10 terms for topic  6 :  que, night, come, back, time, never, tonight, feel, dont, one\n",
      "Top 10 terms for topic  7 :  like, let, time, dont, get, know, nigga, ill, got, come\n",
      "Top 10 terms for topic  8 :  got, dont, get, like, aint, know, gon, girl, time, want\n",
      "Top 10 terms for topic  9 :  like, got, come, know, one, make, well, time, dont, ill\n"
     ]
    }
   ],
   "source": [
    "# https://gist.github.com/tokestermw/3588e6fbbb2f03f89798\n",
    "for i in range(0, 10):\n",
    "    temp = lda_model.show_topic(i, 10)\n",
    "    terms = []\n",
    "    for term in temp:\n",
    "        terms.append(term[0])\n",
    "    curr_terms = \", \".join(terms)\n",
    "    print(\"Top 10 terms for topic \",str(i), \": \", curr_terms)"
   ]
  },
  {
   "cell_type": "code",
   "execution_count": 116,
   "metadata": {},
   "outputs": [
    {
     "data": {
      "image/png": "[encoded data removed]",
      "text/plain": [
       "<Figure size 432x288 with 1 Axes>"
      ]
     },
     "metadata": {
      "needs_background": "light"
     },
     "output_type": "display_data"
    }
   ],
   "source": [
    "# Ref: https://gist.github.com/tokestermw/3588e6fbbb2f03f89798\n",
    "\n",
    "# multiplier=1000\n",
    "def terms_to_wordcounts(terms, multiplier=2000):\n",
    "    return  \" \".join([\" \".join(int(multiplier*i[1]) * [i[0]]) for i in terms])\n",
    "\n",
    "# print([multiplier*(i[1]) for i in terms])\n",
    "terms = lda_model.show_topic(4, 20)\n",
    "multiplied_terms = terms_to_wordcounts(terms, 1000)\n",
    "wordcloud = WordCloud(background_color=\"pink\").generate(multiplied_terms)\n",
    "\n",
    "# terms = lda_model.show_topic(4, 20)\n",
    "# multiplied_terms = terms_to_wordcounts(terms, 1000)\n",
    "# wordcloud2 = WordCloud(background_color=\"pink\").generate(multiplied_terms)\n",
    "\n",
    "# fig, axs = plt.subplots(1,2)\n",
    "\n",
    "plt.imshow(wordcloud)\n",
    "plt.axis(\"off\")\n",
    "plt.savefig(\"terms1\")\n",
    "\n",
    "# plt.close()\n"
   ]
  }
 ],
 "metadata": {
  "kernelspec": {
   "display_name": "Python 3",
   "language": "python",
   "name": "python3"
  },
  "language_info": {
   "codemirror_mode": {
    "name": "ipython",
    "version": 3
   },
   "file_extension": ".py",
   "mimetype": "text/x-python",
   "name": "python",
   "nbconvert_exporter": "python",
   "pygments_lexer": "ipython3",
   "version": "3.7.0"
  }
 },
 "nbformat": 4,
 "nbformat_minor": 2
}
